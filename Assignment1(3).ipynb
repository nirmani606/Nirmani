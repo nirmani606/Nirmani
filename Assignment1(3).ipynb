{
 "cells": [
  {
   "cell_type": "markdown",
   "id": "1665cc5f-4be3-43a7-a780-1bc0505a50cd",
   "metadata": {},
   "source": [
    "1. Assignment 1\n",
    "\n",
    "Date: 2025-02-01\n",
    "My name: Piyal Senavirathnage Nirmani Kaushalya Rajakaruna"
   ]
  },
  {
   "cell_type": "markdown",
   "id": "477a1b59-e17a-4199-b1cb-48b2f76ef0a3",
   "metadata": {
    "jp-MarkdownHeadingCollapsed": true
   },
   "source": [
    "2. Most commenly used programming languages:\n",
    "- Python\n",
    "- Java\n",
    "- JavaScript\n",
    "- C#\n",
    "- C++\n",
    "- PHP"
   ]
  },
  {
   "cell_type": "markdown",
   "id": "26e66b11-1045-4f84-97e7-584c74b29798",
   "metadata": {},
   "source": [
    "3. Table of devices and media:\n",
    "\n",
    "| Intermediate Devices     | End devices        | Media            |\n",
    "|--------------------------|--------------------|------------------|\n",
    "|Router                    |Computer            |Copper cable      |\n",
    "|Switch                    |Smart phone         |Fiber optic cable |\n",
    "|Firewall                  |Printer             |Wireless Wifi     |\n",
    "|Modem                     |Server              |Satellite         |"
   ]
  },
  {
   "cell_type": "code",
   "execution_count": 14,
   "id": "ea8ab493-e036-45b1-9d91-dcf776117605",
   "metadata": {},
   "outputs": [
    {
     "name": "stdout",
     "output_type": "stream",
     "text": [
      "Piyal Senavirathnage Nirmani Kaushalya Rajakaruna\n"
     ]
    }
   ],
   "source": [
    "print(\"Piyal Senavirathnage Nirmani Kaushalya Rajakaruna\")"
   ]
  },
  {
   "cell_type": "code",
   "execution_count": 5,
   "id": "b1d583d8-41d2-45b3-93e2-3d927d82bab1",
   "metadata": {},
   "outputs": [
    {
     "name": "stdin",
     "output_type": "stream",
     "text": [
      "Enter your name:  Piyal Senavirathnage Nirmani Kaushalya Rajakaruna\n"
     ]
    },
    {
     "name": "stdout",
     "output_type": "stream",
     "text": [
      "Hello, Piyal Senavirathnage Nirmani Kaushalya Rajakaruna!\n"
     ]
    }
   ],
   "source": [
    "name = input(\"Enter your name: \")\n",
    "print(\"Hello, \" + name + \"!\")"
   ]
  },
  {
   "cell_type": "code",
   "execution_count": 6,
   "id": "24c4b9c4-3de7-461a-bd2c-5672e869328d",
   "metadata": {},
   "outputs": [
    {
     "name": "stdin",
     "output_type": "stream",
     "text": [
      "Enter the first number:  25\n",
      "Enter the second number:  86\n"
     ]
    },
    {
     "name": "stdout",
     "output_type": "stream",
     "text": [
      "The sum is:  111\n"
     ]
    }
   ],
   "source": [
    "number1 = int(input(\"Enter the first number: \"))\n",
    "number2 = int(input(\"Enter the second number: \"))\n",
    "sum = number1+number2\n",
    "print(\"The sum is: \", sum)"
   ]
  }
 ],
 "metadata": {
  "kernelspec": {
   "display_name": "Python [conda env:base] *",
   "language": "python",
   "name": "conda-base-py"
  },
  "language_info": {
   "codemirror_mode": {
    "name": "ipython",
    "version": 3
   },
   "file_extension": ".py",
   "mimetype": "text/x-python",
   "name": "python",
   "nbconvert_exporter": "python",
   "pygments_lexer": "ipython3",
   "version": "3.12.7"
  }
 },
 "nbformat": 4,
 "nbformat_minor": 5
}
